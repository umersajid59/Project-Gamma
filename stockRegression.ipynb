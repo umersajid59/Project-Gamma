{
 "cells": [
  {
   "cell_type": "code",
   "execution_count": 1,
   "metadata": {},
   "outputs": [],
   "source": [
    "import pandas as pd\n",
    "import numpy as np\n",
    "from datetime import date\n",
    "import matplotlib.pyplot as plt\n",
    "import seaborn as sns\n",
    "%matplotlib inline\n",
    "sns.set()\n",
    "from scipy import stats\n",
    "from sklearn.linear_model import LinearRegression\n",
    "import statsmodels.api as sm\n",
    "from alpha_vantage.timeseries import TimeSeries\n",
    "import pandas as pd"
   ]
  },
  {
   "cell_type": "code",
   "execution_count": 2,
   "metadata": {},
   "outputs": [],
   "source": [
    "#data from the past 15 days "
   ]
  },
  {
   "cell_type": "code",
   "execution_count": 3,
   "metadata": {},
   "outputs": [
    {
     "name": "stdout",
     "output_type": "stream",
     "text": [
      "<class 'pandas.core.frame.DataFrame'>\n",
      "RangeIndex: 7589 entries, 0 to 7588\n",
      "Data columns (total 10 columns):\n",
      "date         7589 non-null datetime64[ns]\n",
      "1. open      7589 non-null float64\n",
      "2. high      7589 non-null float64\n",
      "3. low       7589 non-null float64\n",
      "4. close     7589 non-null float64\n",
      "5. volume    7589 non-null float64\n",
      "open         7589 non-null float64\n",
      "close        7589 non-null float64\n",
      "high         7589 non-null float64\n",
      "low          7589 non-null float64\n",
      "dtypes: datetime64[ns](1), float64(9)\n",
      "memory usage: 593.0 KB\n"
     ]
    }
   ],
   "source": [
    "if __name__ == \"__main__\":\n",
    "    #getting data from API\n",
    "    ts = TimeSeries(key='N1LNTR9K182JZQ3P',output_format='pandas', indexing_type='date')\n",
    "    data, meta_data = ts.get_intraday(symbol='AAPL',interval='1min', outputsize='full')\n",
    "    pd.set_option('display.max_rows', None)\n",
    "    data.head()\n",
    "    #cleaning the data\n",
    "    data['open'] =data['1. open'] \n",
    "    data['close'] = data['4. close']\n",
    "    data['high'] = data['2. high']\n",
    "    data['low'] = data['3. low']\n",
    "    data1 = data.drop(columns=['1. open','4. close','2. high','3. low','5. volume'])\n",
    "    data1 = data.reset_index()\n",
    "    data1.head()\n",
    "    #reviewing dataTypes\n",
    "    data1.info()\n",
    "    "
   ]
  },
  {
   "cell_type": "code",
   "execution_count": 4,
   "metadata": {},
   "outputs": [
    {
     "name": "stdout",
     "output_type": "stream",
     "text": [
      "Intercept: \n",
      " [461.83420483]\n",
      "Coefficients: \n",
      " [[-2107.65387739]]\n",
      "                            OLS Regression Results                            \n",
      "==============================================================================\n",
      "Dep. Variable:                  close   R-squared:                       0.000\n",
      "Model:                            OLS   Adj. R-squared:                 -0.016\n",
      "Method:                 Least Squares   F-statistic:                  0.002045\n",
      "Date:                Mon, 24 Aug 2020   Prob (F-statistic):              0.964\n",
      "Time:                        11:40:06   Log-Likelihood:                -356.05\n",
      "No. Observations:                  65   AIC:                             716.1\n",
      "Df Residuals:                      63   BIC:                             720.5\n",
      "Df Model:                           1                                         \n",
      "Covariance Type:            nonrobust                                         \n",
      "==============================================================================\n",
      "                 coef    std err          t      P>|t|      [0.025      0.975]\n",
      "------------------------------------------------------------------------------\n",
      "const        461.8342      7.334     62.973      0.000     447.179     476.490\n",
      "SR         -2107.6539   4.66e+04     -0.045      0.964   -9.52e+04     9.1e+04\n",
      "==============================================================================\n",
      "Omnibus:                      141.847   Durbin-Watson:                   1.964\n",
      "Prob(Omnibus):                  0.000   Jarque-Bera (JB):            10170.191\n",
      "Skew:                          -7.802   Prob(JB):                         0.00\n",
      "Kurtosis:                      62.259   Cond. No.                     6.39e+03\n",
      "==============================================================================\n",
      "\n",
      "Warnings:\n",
      "[1] Standard Errors assume that the covariance matrix of the errors is correctly specified.\n",
      "[2] The condition number is large, 6.39e+03. This might indicate that there are\n",
      "strong multicollinearity or other numerical problems.\n"
     ]
    },
    {
     "name": "stderr",
     "output_type": "stream",
     "text": [
      "C:\\Users\\umers\\Anaconda3\\lib\\site-packages\\numpy\\core\\fromnumeric.py:2389: FutureWarning: Method .ptp is deprecated and will be removed in a future version. Use numpy.ptp instead.\n",
      "  return ptp(axis=axis, out=out, **kwargs)\n"
     ]
    }
   ],
   "source": [
    "    #calculating the stock returns\n",
    "    data1['SR'] = (data1.close - data1.close.shift(1))/data1.close.shift(1)\n",
    "    data1 = data1.drop([0])\n",
    "    data1.head()\n",
    "    #today = date.today()\n",
    "    #getting data for current day\n",
    "    yesterDay = data1[(data1['date'].dt.day==20)]\n",
    "    yesterDay.head()\n",
    "    #grouping the data by 15 minutes window\n",
    "    a = yesterDay.groupby(pd.Grouper(freq='15T',key='date')).mean()\n",
    "    a = a.fillna(0)\n",
    "    a = a.reset_index()\n",
    "    a.head()\n",
    "    #gouring data by yesterday\n",
    "    xDay = data1[data1['date'].dt.day == 19 ]\n",
    "    xDay = xDay.drop(columns = ['open','close','high','low'])\n",
    "    xDay.head()\n",
    "    #grouping data by 15 minutes window\n",
    "    b = xDay.groupby(pd.Grouper(freq='15T',key='date')).mean()\n",
    "    b = b.fillna(0)\n",
    "    b = b.reset_index()\n",
    "    b.head()\n",
    "    #creating regression model \n",
    "    X = b[['SR']].astype(float)  # independent variables\n",
    "    Y = a[['close']].astype(float)  # target variable\n",
    "    linear_regressor = LinearRegression()  # create object for the class\n",
    "    linear_regressor.fit(X, Y)  # perform linear regression\n",
    "    print('Intercept: \\n', linear_regressor.intercept_)\n",
    "    print('Coefficients: \\n', linear_regressor.coef_)\n",
    "    # with statsmodels\n",
    "    X = sm.add_constant(X) # adding a constant\n",
    "\n",
    "    model = sm.OLS(Y, X).fit()\n",
    "    predictions = model.predict(X) \n",
    "\n",
    "    print_model = model.summary()\n",
    "    print(print_model)"
   ]
  },
  {
   "cell_type": "code",
   "execution_count": null,
   "metadata": {},
   "outputs": [],
   "source": []
  },
  {
   "cell_type": "code",
   "execution_count": null,
   "metadata": {},
   "outputs": [],
   "source": []
  },
  {
   "cell_type": "code",
   "execution_count": null,
   "metadata": {},
   "outputs": [],
   "source": []
  },
  {
   "cell_type": "code",
   "execution_count": null,
   "metadata": {},
   "outputs": [],
   "source": []
  },
  {
   "cell_type": "code",
   "execution_count": null,
   "metadata": {},
   "outputs": [],
   "source": []
  },
  {
   "cell_type": "code",
   "execution_count": null,
   "metadata": {},
   "outputs": [],
   "source": []
  },
  {
   "cell_type": "code",
   "execution_count": null,
   "metadata": {},
   "outputs": [],
   "source": [
    "#a = yesterDay.groupby(yesterDay['date'].dt.hour).mean()\n"
   ]
  },
  {
   "cell_type": "code",
   "execution_count": null,
   "metadata": {},
   "outputs": [],
   "source": []
  },
  {
   "cell_type": "code",
   "execution_count": null,
   "metadata": {},
   "outputs": [],
   "source": [
    "#b = xDay.groupby(xDay['date'].dt.hour).mean()\n"
   ]
  },
  {
   "cell_type": "code",
   "execution_count": null,
   "metadata": {},
   "outputs": [],
   "source": []
  },
  {
   "cell_type": "code",
   "execution_count": null,
   "metadata": {},
   "outputs": [],
   "source": []
  }
 ],
 "metadata": {
  "kernelspec": {
   "display_name": "Python 3",
   "language": "python",
   "name": "python3"
  },
  "language_info": {
   "codemirror_mode": {
    "name": "ipython",
    "version": 3
   },
   "file_extension": ".py",
   "mimetype": "text/x-python",
   "name": "python",
   "nbconvert_exporter": "python",
   "pygments_lexer": "ipython3",
   "version": "3.7.3"
  }
 },
 "nbformat": 4,
 "nbformat_minor": 2
}
